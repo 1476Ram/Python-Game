{
  "nbformat": 4,
  "nbformat_minor": 0,
  "metadata": {
    "colab": {
      "name": "Rock,Paper,Scissors.ipynb",
      "provenance": [],
      "collapsed_sections": []
    },
    "kernelspec": {
      "name": "python3",
      "display_name": "Python 3"
    },
    "language_info": {
      "name": "python"
    }
  },
  "cells": [
    {
      "cell_type": "code",
      "execution_count": null,
      "metadata": {
        "id": "MNpJOEBzgniw"
      },
      "outputs": [],
      "source": [
        "import random\n",
        "\n",
        "def get_choices():\n",
        "  opt = [\"rock\",\"paper\",\"scissors\"]\n",
        "  player_choice = input(\"Enter a choice (rock,paper,scissor) : \")\n",
        "  computer_choice = random.choice(opt)\n",
        "  choice={\"player\":player_choice,\"computer\":computer_choice}\n",
        "  return choice\n",
        "\n",
        "\n",
        "def check_win(player,computer):\n",
        "  print(f\"you chose : {player} & computer chose : {computer}\")\n",
        "  if player == computer:\n",
        "    return \"It's a Tie \"\n",
        "  elif player == 'rock':\n",
        "    if computer == 'scissors':\n",
        "      return \"Rock smashes scissors, you win!\"\n",
        "    else:\n",
        "      return \"Paper covers Rock, you lose.\"\n",
        "  elif player == 'paper':\n",
        "    if computer == 'scissors':\n",
        "      return \"Scissors cuts paper, you lose.\"\n",
        "    else:\n",
        "      return \"Paper covers Rock, you win!\"\n",
        "  elif player == 'scissors':\n",
        "    if computer == 'paper':\n",
        "      return \"Scissors cuts paper, you win!\"\n",
        "    else:\n",
        "      return \"Rock smashes scissor, you lose.\"\n",
        "       \n",
        "choices = get_choices()\n",
        "p_choice = choices[\"player\"]\n",
        "c_choice = choices[\"computer\"]\n",
        "win = check_win(p_choice,c_choice)\n",
        "print(win)"
      ]
    }
  ]
}